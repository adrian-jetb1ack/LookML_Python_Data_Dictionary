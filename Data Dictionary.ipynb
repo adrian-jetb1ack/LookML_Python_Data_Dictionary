{
 "cells": [
  {
   "cell_type": "markdown",
   "metadata": {},
   "source": [
    "# Looker Data Dictionary "
   ]
  },
  {
   "cell_type": "markdown",
   "metadata": {},
   "source": [
    "Before running the script, follow the instructions at https://github.com/llooker/python_api_samples to configure a config file and save it in your working directory"
   ]
  },
  {
   "cell_type": "markdown",
   "metadata": {},
   "source": [
    "Import packages"
   ]
  },
  {
   "cell_type": "code",
   "execution_count": 95,
   "metadata": {},
   "outputs": [],
   "source": [
    "import lookerapi\n",
    "import pandas as pd\n",
    "import warnings\n",
    "import numpy as np\n",
    "from google.oauth2 import service_account\n",
    "import pandas_gbq\n",
    "import os\n",
    "#warnings.filterwarnings(\"ignore\")"
   ]
  },
  {
   "cell_type": "markdown",
   "metadata": {},
   "source": [
    "Connect to your Looker Instance"
   ]
  },
  {
   "cell_type": "code",
   "execution_count": 96,
   "metadata": {},
   "outputs": [],
   "source": [
    "#assumes that you the config.yml in current directory\n",
    "config_filename = 'saleseng_config.yml'\n",
    "looker = lookerapi.connect_looker(config_filename)"
   ]
  },
  {
   "cell_type": "markdown",
   "metadata": {},
   "source": [
    "Enter a model name you want to create the data dictionary on"
   ]
  },
  {
   "cell_type": "code",
   "execution_count": 97,
   "metadata": {},
   "outputs": [
    {
     "name": "stdout",
     "output_type": "stream",
     "text": [
      "https://saleseng.dev.looker.com:19999/api/3.1/lookml_models/thelook_leigha\n"
     ]
    }
   ],
   "source": [
    "model_name = 'thelook_leigha'\n",
    "model = looker.get_model(model_name) "
   ]
  },
  {
   "cell_type": "markdown",
   "metadata": {},
   "source": [
    "Iterate through all the explores and create a dataframe with the metadata for each field"
   ]
  },
  {
   "cell_type": "code",
   "execution_count": 105,
   "metadata": {},
   "outputs": [],
   "source": [
    "field_dict = []\n",
    "for explore_n in model['explores']:\n",
    "    explore = looker.get_explore(explore_name=explore_n[\"name\"],model_name=model_name)\n",
    "    dimensions = explore['fields']['dimensions']\n",
    "    for d in dimensions:\n",
    "        d['explore'] = explore['label']\n",
    "        d['explore_name'] = explore['name']\n",
    "        d['model_name'] = model_name\n",
    "        #d['explore_link'] = looker.host.replace(':19999/api/3.1/','')+'/explore/'+model_name+'/'+explore['name']\n",
    "        d['explore_description'] = explore['description']\n",
    "    measures = explore['fields']['measures']\n",
    "    for m in measures:\n",
    "        m['explore'] = explore['label']\n",
    "        m['explore_name'] = explore['name']\n",
    "        m['model_name'] = model_name\n",
    "        #m['explore_link'] = looker.host.replace(':19999/api/3.1/','')+'/explore/'+model_name+'/'+explore['name']\n",
    "        m['explore_description'] = explore['description']\n",
    "    field_dict = field_dict+dimensions+measures"
   ]
  },
  {
   "cell_type": "code",
   "execution_count": 106,
   "metadata": {},
   "outputs": [],
   "source": [
    "field_df = pd.DataFrame(field_dict)"
   ]
  },
  {
   "cell_type": "markdown",
   "metadata": {},
   "source": [
    "Write metadata results back to database"
   ]
  },
  {
   "cell_type": "code",
   "execution_count": 107,
   "metadata": {},
   "outputs": [],
   "source": [
    "credentials = service_account.Credentials.from_service_account_file(os.environ['GOOGLE_APPLICATION_CREDENTIALS'])"
   ]
  },
  {
   "cell_type": "code",
   "execution_count": 108,
   "metadata": {},
   "outputs": [
    {
     "name": "stderr",
     "output_type": "stream",
     "text": [
      "1it [00:05,  5.24s/it]\n"
     ]
    }
   ],
   "source": [
    "dataset='exoplanets'\n",
    "project='looker-se'\n",
    "table_name = 'looker_data_dictionary'\n",
    "pandas_gbq.to_gbq(field_df.reset_index(), dataset+'.'+table_name, project, if_exists='replace')"
   ]
  },
  {
   "cell_type": "code",
   "execution_count": null,
   "metadata": {},
   "outputs": [],
   "source": []
  },
  {
   "cell_type": "code",
   "execution_count": null,
   "metadata": {},
   "outputs": [],
   "source": []
  }
 ],
 "metadata": {
  "kernelspec": {
   "display_name": "Python 3",
   "language": "python",
   "name": "python3"
  },
  "language_info": {
   "codemirror_mode": {
    "name": "ipython",
    "version": 3
   },
   "file_extension": ".py",
   "mimetype": "text/x-python",
   "name": "python",
   "nbconvert_exporter": "python",
   "pygments_lexer": "ipython3",
   "version": "3.6.5"
  }
 },
 "nbformat": 4,
 "nbformat_minor": 2
}
